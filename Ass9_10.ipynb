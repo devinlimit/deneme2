{
 "cells": [
  {
   "cell_type": "code",
   "execution_count": 1,
   "metadata": {},
   "outputs": [
    {
     "name": "stdin",
     "output_type": "stream",
     "text": [
      "Enter your name:  devın\n"
     ]
    },
    {
     "name": "stdout",
     "output_type": "stream",
     "text": [
      "Hello Devın! See you later.\n"
     ]
    }
   ],
   "source": [
    "### Ass-9\n",
    "### password GitHub repo\n",
    "\n",
    "password = \"Galatasaray1905*\"\n",
    "\n",
    "name = input(\"Enter your name: \").title().strip()\n",
    "\n",
    "if name == \"Devin\":\n",
    "    print(\"Hello\", name, \"\\b! The password is :\", password)\n",
    "else:\n",
    "    print(\"Hello\", name, \"\\b! See you later.\")"
   ]
  },
  {
   "cell_type": "code",
   "execution_count": 11,
   "metadata": {},
   "outputs": [
    {
     "name": "stdin",
     "output_type": "stream",
     "text": [
      "Are you a cigarette addict older than 75 years old? :  yess\n",
      "Enter 'Yes' or 'No', carefully please.. :  yes\n",
      "Do you have a severe chronic disease? :  yes\n",
      "Is your immune system too weak? :  yes\n"
     ]
    },
    {
     "name": "stdout",
     "output_type": "stream",
     "text": [
      "You are in risky group\n"
     ]
    }
   ],
   "source": [
    "### Ass-10\n",
    "### Covid-19 GitHub repo\n",
    "\n",
    "age = input(\"Are you a cigarette addict older than 75 years old? : \").title().strip()\n",
    "if age == \"Yes\":\n",
    "    age = True\n",
    "elif age == \"No\":\n",
    "    age = False\n",
    "else:\n",
    "    age = input(\"Enter 'Yes' or 'No', carefully please.. : \").title().strip()\n",
    "    if age == \"Yes\":\n",
    "        age = True\n",
    "    else:\n",
    "        age = False\n",
    "    \n",
    "chronic = input(\"Do you have a severe chronic disease? : \").title().strip()     \n",
    "if chronic == \"Yes\":\n",
    "    chronic = True\n",
    "elif chronic == \"No\":\n",
    "    chronic = False\n",
    "else:\n",
    "    chronic = input(\"Enter 'Yes' or 'No', carefully please.. : \").title().strip()\n",
    "    if chronic == \"Yes\":\n",
    "        chronic = True\n",
    "    else:\n",
    "        chronic = False\n",
    "    \n",
    "immune = input(\"Is your immune system too weak? : \").title().strip()            \n",
    "if immune == \"Yes\":\n",
    "    immune = True\n",
    "elif immune == \"No\":\n",
    "    immune = False\n",
    "else:\n",
    "    immune = input(\"Enter 'Yes' or 'No', carefully please.. : \").title().strip()\n",
    "    if immune == \"Yes\":\n",
    "        immune = True\n",
    "    else:\n",
    "        immune = False\n",
    "        \n",
    "if bool(age and chronic and immune) == True:\n",
    "    print(\"You are in risky group\")\n",
    "else:\n",
    "    print(\"You are not in risky group\")\n",
    "    "
   ]
  },
  {
   "cell_type": "code",
   "execution_count": null,
   "metadata": {},
   "outputs": [],
   "source": []
  }
 ],
 "metadata": {
  "kernelspec": {
   "display_name": "Python 3.8.3 32-bit",
   "language": "python",
   "name": "python38332bitdffc9709f90d42dbbb8329c9bbc1e784"
  },
  "language_info": {
   "codemirror_mode": {
    "name": "ipython",
    "version": 3
   },
   "file_extension": ".py",
   "mimetype": "text/x-python",
   "name": "python",
   "nbconvert_exporter": "python",
   "pygments_lexer": "ipython3",
   "version": "3.8.3"
  }
 },
 "nbformat": 4,
 "nbformat_minor": 4
}
