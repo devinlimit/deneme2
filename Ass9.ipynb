{
 "cells": [
  {
   "cell_type": "code",
   "execution_count": 1,
   "metadata": {},
   "outputs": [
    {
     "name": "stdin",
     "output_type": "stream",
     "text": [
      "Enter your name:  devın\n"
     ]
    },
    {
     "name": "stdout",
     "output_type": "stream",
     "text": [
      "Hello Devın! See you later.\n"
     ]
    }
   ],
   "source": [
    "### Ass-9\n",
    "### password GitHub repo\n",
    "\n",
    "password = \"Galatasaray1905*\"\n",
    "\n",
    "name = input(\"Enter your name: \").title().strip()\n",
    "\n",
    "if name == \"Devin\":\n",
    "    print(\"Hello\", name, \"\\b! The password is :\", password)\n",
    "else:\n",
    "    print(\"Hello\", name, \"\\b! See you later.\")"
   ]
  },
  {
   "cell_type": "code",
   "execution_count": null,
   "metadata": {},
   "outputs": [],
   "source": []
  }
 ],
 "metadata": {
  "kernelspec": {
   "display_name": "Python 3.8.3 32-bit",
   "language": "python",
   "name": "python38332bitdffc9709f90d42dbbb8329c9bbc1e784"
  },
  "language_info": {
   "codemirror_mode": {
    "name": "ipython",
    "version": 3
   },
   "file_extension": ".py",
   "mimetype": "text/x-python",
   "name": "python",
   "nbconvert_exporter": "python",
   "pygments_lexer": "ipython3",
   "version": "3.8.3"
  }
 },
 "nbformat": 4,
 "nbformat_minor": 4
}
