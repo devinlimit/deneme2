{
 "cells": [
  {
   "cell_type": "code",
   "execution_count": 1,
   "metadata": {},
   "outputs": [
    {
     "name": "stdin",
     "output_type": "stream",
     "text": [
      "Enter a positive integer number to check how many prime number included in range  :  100\n"
     ]
    },
    {
     "name": "stdout",
     "output_type": "stream",
     "text": [
      "[2, 3, 5, 7, 11, 13, 17, 19, 23, 29, 31, 37, 41, 43, 47, 53, 59, 61, 67, 71, 73, 79, 83, 89, 97]\n"
     ]
    }
   ],
   "source": [
    "n = int(input(\"Enter a positive integer number to check how many prime number included in range  : \"))\n",
    "\n",
    "primelist = []\n",
    "nonprimelist = []\n",
    "\n",
    "for i in range(n, 1, -1):\n",
    "    a = 0\n",
    "    b = 0\n",
    "    ii = i - 1\n",
    "    while ii > 1:\n",
    "        if (i % ii == 0):\n",
    "            a = a + 1\n",
    "        ii = ii - 1\n",
    "    if a > 0:\n",
    "        nonprimelist.append(i)\n",
    "    else:\n",
    "        primelist.append(i)\n",
    "        \n",
    "primelist.reverse()            \n",
    "print(primelist)"
   ]
  },
  {
   "cell_type": "code",
   "execution_count": null,
   "metadata": {},
   "outputs": [],
   "source": []
  }
 ],
 "metadata": {
  "kernelspec": {
   "display_name": "Python 3.8.3 32-bit",
   "language": "python",
   "name": "python38332bitdffc9709f90d42dbbb8329c9bbc1e784"
  },
  "language_info": {
   "codemirror_mode": {
    "name": "ipython",
    "version": 3
   },
   "file_extension": ".py",
   "mimetype": "text/x-python",
   "name": "python",
   "nbconvert_exporter": "python",
   "pygments_lexer": "ipython3",
   "version": "3.8.3"
  }
 },
 "nbformat": 4,
 "nbformat_minor": 4
}
