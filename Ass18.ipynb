{
 "cells": [
  {
   "cell_type": "code",
   "execution_count": 1,
   "metadata": {},
   "outputs": [
    {
     "name": "stdout",
     "output_type": "stream",
     "text": [
      "- - - - - - - - - - - - - - - \n",
      "0  0  0  | 0  6  4  | 0  0  0 \n",
      "7  0  0  | 0  0  0  | 3  9  0 \n",
      "8  0  0  | 0  0  0  | 0  0  0 \n",
      "- - - - - - - - - - - - - - - \n",
      "0  0  0  | 5  0  2  | 0  6  0 \n",
      "0  8  0  | 4  0  0  | 0  0  0 \n",
      "3  5  0  | 6  0  0  | 0  7  0 \n",
      "- - - - - - - - - - - - - - - \n",
      "0  0  2  | 0  0  0  | 1  0  3 \n",
      "0  0  1  | 0  5  9  | 0  0  0 \n",
      "0  0  0  | 0  0  0  | 7  0  0 \n",
      "- - - - - - - - - - - - - - - \n"
     ]
    }
   ],
   "source": [
    "sudoku = [\n",
    "    [0, 0, 0, 0, 6, 4, 0, 0, 0],\n",
    "    [7, 0, 0, 0, 0, 0, 3, 9, 0],\n",
    "    [8, 0, 0, 0, 0, 0, 0, 0, 0],\n",
    "    [0, 0, 0, 5, 0, 2, 0, 6, 0],\n",
    "    [0, 8, 0, 4, 0, 0, 0, 0, 0],\n",
    "    [3, 5, 0, 6, 0, 0, 0, 7, 0],\n",
    "    [0, 0, 2, 0, 0, 0, 1, 0, 3],\n",
    "    [0, 0, 1, 0, 5, 9, 0, 0, 0],\n",
    "    [0, 0, 0, 0, 0, 0, 7, 0, 0]\n",
    "]\n",
    "count = 0\n",
    "a = (\"- \" * 15)\n",
    "for i in sudoku:\n",
    "    if count % 3 == 0:\n",
    "        print(a)\n",
    "        count += 1\n",
    "        count1 = 0\n",
    "        for ii in i:\n",
    "            count1 += 1\n",
    "            if count1 % 3 == 0 and count1 % 9 != 0:\n",
    "                print(ii, \"\", \"|\", end = \" \")\n",
    "            elif count1 % 9 == 0:\n",
    "                print(ii, \"\")\n",
    "            else:\n",
    "                print(ii, \"\", end = \" \")\n",
    "    else:\n",
    "        count += 1\n",
    "        count1 = 0\n",
    "        for ii in i:\n",
    "            count1 += 1\n",
    "            if count1 % 3 == 0 and count1 % 9 != 0:\n",
    "                print(ii, \"\", \"|\", end = \" \")\n",
    "            elif count1 % 9 == 0:\n",
    "                print(ii, \"\")\n",
    "            else:\n",
    "                print(ii, \"\", end = \" \")\n",
    "print(a)"
   ]
  },
  {
   "cell_type": "code",
   "execution_count": null,
   "metadata": {},
   "outputs": [],
   "source": [
    "sudoku = [\n",
    "    [0, 0, 0, 0, 6, 4, 0, 0, 0],\n",
    "    [7, 0, 0, 0, 0, 0, 3, 9, 0],\n",
    "    [8, 0, 0, 0, 0, 0, 0, 0, 0],\n",
    "    [0, 0, 0, 5, 0, 2, 0, 6, 0],\n",
    "    [0, 8, 0, 4, 0, 0, 0, 0, 0],\n",
    "    [3, 5, 0, 6, 0, 0, 0, 7, 0],\n",
    "    [0, 0, 2, 0, 0, 0, 1, 0, 3],\n",
    "    [0, 0, 1, 0, 5, 9, 0, 0, 0],\n",
    "    [0, 0, 0, 0, 0, 0, 7, 0, 0], \n",
    "]\n",
    "\n",
    "def inserter(list1):\n",
    "    lenlist1 = len(list1)\n",
    "    i = 0\n",
    "    ii = 3\n",
    "    while ii < lenlist1:\n",
    "        list1.insert(ii+i, \"|\")\n",
    "        i = i + 1\n",
    "        ii = ii + 3\n",
    "    return list1\n",
    "\n",
    "a = (\"- \" * 16)\n",
    "\n",
    "for i in range(len(sudoku)):\n",
    "    if i % 3 == 0:\n",
    "        print(a)\n",
    "    print"
   ]
  }
 ],
 "metadata": {
  "kernelspec": {
   "display_name": "Python 3",
   "language": "python",
   "name": "python3"
  },
  "language_info": {
   "codemirror_mode": {
    "name": "ipython",
    "version": 3
   },
   "file_extension": ".py",
   "mimetype": "text/x-python",
   "name": "python",
   "nbconvert_exporter": "python",
   "pygments_lexer": "ipython3",
   "version": "3.7.6"
  }
 },
 "nbformat": 4,
 "nbformat_minor": 4
}
