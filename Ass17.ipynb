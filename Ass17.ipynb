{
 "cells": [
  {
   "cell_type": "code",
   "execution_count": 8,
   "metadata": {},
   "outputs": [
    {
     "name": "stdin",
     "output_type": "stream",
     "text": [
      "Enter a sentence of which the chars to be counted:  hippo runs to us!\n"
     ]
    },
    {
     "name": "stdout",
     "output_type": "stream",
     "text": [
      "{'h': 1, 'u': 2, 's': 2, 'n': 1, 'r': 1, '!': 1, 'o': 2, ' ': 3, 't': 1, 'i': 1, 'p': 2}\n"
     ]
    }
   ],
   "source": [
    "### Ass17 Task: Count the number of each letter in a sentence.\n",
    "### The department you work for undertook a project construction \n",
    "### that makes word / text analysis. You are asked to calculate the \n",
    "### number of letters or any chars in the sentences entered under this project.\n",
    "\n",
    "### Write a Python program that;\n",
    "### takes a sentence from the user,\n",
    "### counts the number of each letter of the sentence,\n",
    "### collects the letters/chars as a key and the counted numbers as a value in a dictionary.\n",
    "\n",
    "text = input(\"Enter a sentence of which the chars to be counted: \")\n",
    "\n",
    "textset = set(text)\n",
    "numbers1 = []\n",
    "\n",
    "for i in textset:\n",
    "    n = text.count(i)\n",
    "    numbers1.append(n)\n",
    "\n",
    "textsetlist = list(textset)\n",
    "zipped=zip(textsetlist, numbers1)\n",
    "\n",
    "print(dict(zipped))\n"
   ]
  },
  {
   "cell_type": "code",
   "execution_count": 6,
   "metadata": {},
   "outputs": [
    {
     "ename": "NameError",
     "evalue": "name 'zipped' is not defined",
     "output_type": "error",
     "traceback": [
      "\u001b[1;31m---------------------------------------------------------------------------\u001b[0m",
      "\u001b[1;31mNameError\u001b[0m                                 Traceback (most recent call last)",
      "\u001b[1;32m<ipython-input-6-811b9e9268ab>\u001b[0m in \u001b[0;36m<module>\u001b[1;34m\u001b[0m\n\u001b[1;32m----> 1\u001b[1;33m \u001b[0mprint\u001b[0m\u001b[1;33m(\u001b[0m\u001b[0mtype\u001b[0m\u001b[1;33m(\u001b[0m\u001b[0mzipped\u001b[0m\u001b[1;33m)\u001b[0m\u001b[1;33m)\u001b[0m\u001b[1;33m\u001b[0m\u001b[1;33m\u001b[0m\u001b[0m\n\u001b[0m\u001b[0;32m      2\u001b[0m \u001b[0mnext\u001b[0m\u001b[1;33m(\u001b[0m\u001b[0mzipped\u001b[0m\u001b[1;33m)\u001b[0m\u001b[1;33m\u001b[0m\u001b[1;33m\u001b[0m\u001b[0m\n\u001b[0;32m      3\u001b[0m \u001b[0mprint\u001b[0m\u001b[1;33m(\u001b[0m\u001b[0mdict\u001b[0m\u001b[1;33m(\u001b[0m\u001b[0mzipped\u001b[0m\u001b[1;33m)\u001b[0m\u001b[1;33m)\u001b[0m\u001b[1;33m\u001b[0m\u001b[1;33m\u001b[0m\u001b[0m\n",
      "\u001b[1;31mNameError\u001b[0m: name 'zipped' is not defined"
     ]
    }
   ],
   "source": []
  },
  {
   "cell_type": "code",
   "execution_count": null,
   "metadata": {},
   "outputs": [],
   "source": [
    "I do none 333!\n",
    "\n",
    "print(type(zipped))\n",
    "next(zipped)\n",
    "print(dict(zipped))"
   ]
  }
 ],
 "metadata": {
  "kernelspec": {
   "display_name": "Python 3.8.3 32-bit",
   "language": "python",
   "name": "python38332bitdffc9709f90d42dbbb8329c9bbc1e784"
  },
  "language_info": {
   "codemirror_mode": {
    "name": "ipython",
    "version": 3
   },
   "file_extension": ".py",
   "mimetype": "text/x-python",
   "name": "python",
   "nbconvert_exporter": "python",
   "pygments_lexer": "ipython3",
   "version": "3.8.3"
  }
 },
 "nbformat": 4,
 "nbformat_minor": 4
}
